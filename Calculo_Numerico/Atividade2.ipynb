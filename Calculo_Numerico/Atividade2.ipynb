{
 "cells": [
  {
   "cell_type": "code",
   "execution_count": 39,
   "id": "63cafd0b-6cd9-4413-a66b-b7e2ea6baa5f",
   "metadata": {},
   "outputs": [
    {
     "name": "stdout",
     "output_type": "stream",
     "text": [
      "[[ 4. -2.  0.  0. -2.]\n",
      " [-2.  5. -2.  0. -1.]\n",
      " [ 0. -2.  5. -1. -2.]\n",
      " [ 0.  0. -1.  3. -2.]\n",
      " [-2. -1. -2. -2.  7.]]\n"
     ]
    }
   ],
   "source": [
    "#Exercício 1\n",
    "import numpy as np\n",
    "\n",
    "def Assembly(conec, C):\n",
    "    nv = 5\n",
    "    nc = len(C)\n",
    "    A = np.zeros(shape=(nv,nv))\n",
    "    for k in range(nc):\n",
    "        n1 = conec[k, 0]\n",
    "        n2 = conec[k, 1]\n",
    "        \n",
    "        A[n1-1, n1-1] += C[k]\n",
    "        A[n1-1, n2-1] += -C[k]\n",
    "        A[n2-1, n1-1] += -C[k]\n",
    "        A[n2-1, n2-1] += C[k]\n",
    "\n",
    "    return A\n",
    "\n",
    "conec = np.zeros(shape=(7,2), dtype=int)\n",
    "\n",
    "conec[0] = [1,2]\n",
    "conec[1] = [2,3]\n",
    "conec[2] = [3,4]\n",
    "conec[3] = [4,5]\n",
    "conec[4] = [5,2]\n",
    "conec[5] = [5,3]\n",
    "conec[6] = [5,1]\n",
    "\n",
    "C = [2,2,1,2,1,2,2]\n",
    "print(Assembly(conec, C))"
   ]
  },
  {
   "cell_type": "code",
   "execution_count": 53,
   "id": "ab524a13-493e-4109-b111-3caf53dab1dd",
   "metadata": {},
   "outputs": [
    {
     "name": "stdout",
     "output_type": "stream",
     "text": [
      "[1.39772727e+00 6.81818182e-01 1.11022302e-16 4.09090909e-01\n",
      " 6.13636364e-01]\n"
     ]
    }
   ],
   "source": [
    "#Exercício 2\n",
    "\n",
    "import numpy as np\n",
    "\n",
    "def Assembly(conec, C):\n",
    "    nv = 5\n",
    "    nc = len(C)\n",
    "    A = np.zeros(shape=(nv,nv))\n",
    "    for k in range(nc):\n",
    "        n1 = conec[k, 0]\n",
    "        n2 = conec[k, 1]\n",
    "        \n",
    "        A[n1-1, n1-1] += C[k]\n",
    "        A[n1-1, n2-1] += -C[k]\n",
    "        A[n2-1, n1-1] += -C[k]\n",
    "        A[n2-1, n2-1] += C[k]\n",
    "\n",
    "    return A\n",
    "\n",
    "def SolveNetwork(conec, natm, nB, QB):\n",
    "    Atilde = Assembly(conec, [2,2,1,2,1,2,2])\n",
    "    Atilde[natm-1, :] = 0\n",
    "    Atilde[natm-1, natm-1] = 1\n",
    "    b = np.zeros(shape=5)\n",
    "    b[nB-1] = QB\n",
    "    pressure = np.linalg.solve(Atilde, b)\n",
    "    return pressure\n",
    "\n",
    "conec = np.zeros(shape=(7,2), dtype=int)\n",
    "\n",
    "conec[0] = [1,2]\n",
    "conec[1] = [2,3]\n",
    "conec[2] = [3,4]\n",
    "conec[3] = [4,5]\n",
    "conec[4] = [5,2]\n",
    "conec[5] = [5,3]\n",
    "conec[6] = [5,1]\n",
    "\n",
    "pressao = SolveNetwork(conec, 3, 1, 3)\n",
    "\n",
    "print(pressao)"
   ]
  },
  {
   "cell_type": "code",
   "execution_count": null,
   "id": "3680b06e-0e3e-406f-9cf5-587f121775e3",
   "metadata": {},
   "outputs": [],
   "source": []
  }
 ],
 "metadata": {
  "kernelspec": {
   "display_name": "Python 3 (ipykernel)",
   "language": "python",
   "name": "python3"
  },
  "language_info": {
   "codemirror_mode": {
    "name": "ipython",
    "version": 3
   },
   "file_extension": ".py",
   "mimetype": "text/x-python",
   "name": "python",
   "nbconvert_exporter": "python",
   "pygments_lexer": "ipython3",
   "version": "3.12.2"
  }
 },
 "nbformat": 4,
 "nbformat_minor": 5
}
